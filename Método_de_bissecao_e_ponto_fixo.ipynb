{
  "nbformat": 4,
  "nbformat_minor": 0,
  "metadata": {
    "colab": {
      "provenance": []
    },
    "kernelspec": {
      "name": "python3",
      "display_name": "Python 3"
    },
    "language_info": {
      "name": "python"
    }
  },
  "cells": [
    {
      "cell_type": "markdown",
      "source": [
        "Implementar os métodos bisseção e ponto fixo, utilizando o software de sua preferência. A entrega da atividade será o envio dos códigos juntamente o link para um vídeo de apresentação dos mesmos. Não há necessidade de gráficos, apenas da sequência de pontos até a obtenção da raiz desejada. O critério de parada deve ser o número maximo de iterações juntamente com um critério de erro (absoluto, relativo ou o maior deles). Vídeo de no máximo 10 minutos mostrando entrada, método e saída.\n",
        "\n",
        "## Aluno: Vinícius Vieri Bezerra de Lima"
      ],
      "metadata": {
        "id": "5VPO4G8D-f1r"
      }
    },
    {
      "cell_type": "code",
      "source": [
        "import math\n",
        "import pandas as pd"
      ],
      "metadata": {
        "id": "QAS8mnAg-jKK"
      },
      "execution_count": null,
      "outputs": []
    },
    {
      "cell_type": "markdown",
      "source": [
        "## Método de Bisseção"
      ],
      "metadata": {
        "id": "mrSjdWr8-h5T"
      }
    },
    {
      "cell_type": "code",
      "source": [
        "# Definindo a função cujas raízes queremos encontrar\n",
        "def f(x):\n",
        "    return (1/x) + 1\n",
        "\n",
        "# Definindo o intervalo inicial e a tolerância de erro\n",
        "a = -2\n",
        "b = -0.5\n",
        "erro = 0.1\n",
        "\n",
        "# Verificando se há pelo menos uma raiz no intervalo [a, b] usando o Teorema do Valor Intermediário, médio ou bolzano\n",
        "if f(a) * f(b) < 0:\n",
        "    print(\"Existe pelo menos uma raiz no intervalo [a,b]\")\n",
        "\n",
        "    # Contador de iterações\n",
        "    iter_count = 1\n",
        "\n",
        "    # Criando listas para armazenar os valores de cada iteração\n",
        "    iteracoes = []\n",
        "    valores_xi = []\n",
        "    valores_f_xi = []\n",
        "\n",
        "    # Loop principal do método da bisseção\n",
        "    while (math.fabs(b - a) / 2 > erro):  # Enquanto o tamanho do intervalo for maior que a tolerância de erro\n",
        "        xi = (a + b) / 2  # Calcula o ponto médio do intervalo\n",
        "\n",
        "        # Adicionando valores às listas\n",
        "        iteracoes.append(iter_count)\n",
        "        valores_xi.append(xi)\n",
        "        valores_f_xi.append(f(xi))\n",
        "\n",
        "        # Imprime informações sobre a iteração atual\n",
        "        print(f\"Iteração {iter_count}: xi = {xi}, f(xi) = {f(xi)}\")\n",
        "\n",
        "        # Verifica se o ponto médio é uma raiz\n",
        "        if f(xi) == 0:\n",
        "            print(\"A raiz é: \", xi)\n",
        "            break\n",
        "        else:\n",
        "            # Atualiza o intervalo [a, b] de acordo com o Teorema do Valor Intermediário\n",
        "            if f(a) * f(xi) < 0:\n",
        "                b = xi\n",
        "            else:\n",
        "                a = xi\n",
        "\n",
        "        # Incrementa o contador de iterações\n",
        "        iter_count += 1\n",
        "\n",
        "    # Apresentando os resultados em um DataFrame do Pandas\n",
        "    df = pd.DataFrame({\n",
        "        'Iteração': iteracoes,\n",
        "        'xi': valores_xi,\n",
        "        'f(xi)': valores_f_xi\n",
        "    })\n",
        "\n",
        "    # Imprime o DataFrame\n",
        "    df\n",
        "\n",
        "    # Imprime a raiz encontrada\n",
        "    print(\"A raiz é: \", xi)\n",
        "\n",
        "else:\n",
        "    print(\"Não existe raiz no intervalo [a,b]\")  # Se não houver mudança de sinal, não há raízes neste intervalo\n"
      ],
      "metadata": {
        "colab": {
          "base_uri": "https://localhost:8080/"
        },
        "id": "JG7hE0vW_JTz",
        "outputId": "d373c2c0-b7c0-43da-abb4-bcf240f6829f"
      },
      "execution_count": null,
      "outputs": [
        {
          "output_type": "stream",
          "name": "stdout",
          "text": [
            "Existe pelo menos uma raiz no intervalo [a,b]\n",
            "Iteração 1: xi = -1.25, f(xi) = 0.19999999999999996\n",
            "Iteração 2: xi = -0.875, f(xi) = -0.1428571428571428\n",
            "Iteração 3: xi = -1.0625, f(xi) = 0.05882352941176472\n",
            "A raiz é:  -1.0625\n"
          ]
        }
      ]
    },
    {
      "cell_type": "markdown",
      "source": [
        "## Método de Ponto Fixo"
      ],
      "metadata": {
        "id": "v5OgnhW4_Ay7"
      }
    },
    {
      "cell_type": "code",
      "source": [
        "import numpy as np\n",
        "\n",
        "def metodo_ponto_fixo(g, x0, tol, max_iter):\n",
        "    x = x0  # Define o ponto inicial\n",
        "    for iter in range(max_iter):  # Loop sobre o número máximo de iterações\n",
        "        x_novo = g(x)  # Calcula o próximo valor de x usando a função g\n",
        "        if abs(x_novo - x) < tol:  # Verifica se a condição de parada (tolerância) foi atingida\n",
        "            print(f\"Ponto fixo encontrado após {iter+1} iterações: x = {x_novo}\")\n",
        "            return x_novo  # Retorna a solução encontrada\n",
        "        x = x_novo  # Atualiza o valor de x para a próxima iteração\n",
        "        print(f\"Iteração {iter+1}: x = {x}\")\n",
        "\n",
        "    print(\"Atingido o número máximo de iterações.\")\n",
        "    return x  # Retorna o valor de x encontrado após o número máximo de iterações\n"
      ],
      "metadata": {
        "id": "-RCp8lM0CGk9"
      },
      "execution_count": null,
      "outputs": []
    },
    {
      "cell_type": "code",
      "source": [
        "g = lambda x: np.sqrt(2+x)  #exemplo de função g(x) (o mesmo utilizado no slide)\n",
        "x0 = 2.5  #valor inicial\n",
        "tol = 1e-5  #tolerância para o erro\n",
        "max_iter = 100  #máximo de iterações permitidas\n",
        "\n",
        "ponto_fixo = metodo_ponto_fixo(g, x0, tol, max_iter)"
      ],
      "metadata": {
        "colab": {
          "base_uri": "https://localhost:8080/"
        },
        "id": "1Px4W1MOCLFh",
        "outputId": "db7bdeb1-7aa0-4ae4-8009-cf6b516eb6b6"
      },
      "execution_count": null,
      "outputs": [
        {
          "output_type": "stream",
          "name": "stdout",
          "text": [
            "Iteração 1: x = 2.1213203435596424\n",
            "Iteração 2: x = 2.0301035302564356\n",
            "Iteração 3: x = 2.007511775869929\n",
            "Iteração 4: x = 2.0018770631259875\n",
            "Iteração 5: x = 2.0004692107418167\n",
            "Iteração 6: x = 2.0001172992456757\n",
            "Iteração 7: x = 2.000029324596436\n",
            "Iteração 8: x = 2.0000073311356728\n",
            "Ponto fixo encontrado após 9 iterações: x = 2.000001832783078\n"
          ]
        }
      ]
    }
  ]
}
